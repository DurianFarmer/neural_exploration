{
 "cells": [
  {
   "cell_type": "code",
   "execution_count": 1,
   "metadata": {},
   "outputs": [],
   "source": [
    "import numpy as np\n",
    "import matplotlib.pyplot as plt\n",
    "import seaborn as sns\n",
    "from neural_exploration import *\n",
    "sns.set()"
   ]
  },
  {
   "cell_type": "code",
   "execution_count": 2,
   "metadata": {},
   "outputs": [],
   "source": [
    "T = 2000\n",
    "n_arms = 12 # a -> 숫자를 키워볼 것\n",
    "n_features = 20 # d -> 숫자를 키워볼 것\n",
    "n_assortment = 4\n",
    "noise_std = 0.1\n",
    "\n",
    "n_samples = 1 # number of samples for each round and arm, only for TS\n",
    "\n",
    "n_sim = 2 # number of simulations\n",
    "\n",
    "def F(x): # round_reward_function\n",
    "    if len(np.shape(x)) == 1: # if x is a vector\n",
    "        return np.sum(x)\n",
    "    else: # if x is a matrix\n",
    "        return np.sum(x, axis=1)                "
   ]
  },
  {
   "cell_type": "code",
   "execution_count": 3,
   "metadata": {},
   "outputs": [],
   "source": [
    "reg_factor = 1.0 # lambda\n",
    "delta = 0.1 # delta\n",
    "exploration_variance = 1.0 # nu, only for TS\n",
    "confidence_scaling_factor = 1.0 # gamma, only for UCB"
   ]
  },
  {
   "cell_type": "code",
   "execution_count": 4,
   "metadata": {},
   "outputs": [],
   "source": [
    "p = 0.2 # dropout probability\n",
    "hidden_size = 64 # m\n",
    "epochs = 100 # \n",
    "train_every = 10\n",
    "confidence_scaling_factor = 1.0\n",
    "use_cuda = False"
   ]
  },
  {
   "cell_type": "code",
   "execution_count": 5,
   "metadata": {},
   "outputs": [],
   "source": [
    "### mean reward function\n",
    "a = np.random.randn(n_features)\n",
    "a /= np.linalg.norm(a, ord=2)\n",
    "h = lambda x: 100*np.dot(a, x)"
   ]
  },
  {
   "cell_type": "code",
   "execution_count": 6,
   "metadata": {},
   "outputs": [],
   "source": [
    "bandit = ContextualBandit(T, n_arms, n_features, h, noise_std=noise_std, \\\n",
    "                          n_assortment=n_assortment, n_samples=n_samples, round_reward_function=F)\n",
    "\n",
    "regrets = np.empty((n_sim, T))\n",
    "\n",
    "bandit.reset_rewards()\n",
    "model = NeuralUCB(bandit,\n",
    "                  hidden_size=hidden_size,\n",
    "                  reg_factor=reg_factor,\n",
    "                  delta=delta,\n",
    "                  confidence_scaling_factor=confidence_scaling_factor,\n",
    "                  # exploration_variance=exploration_variance,\n",
    "                  training_window=100,\n",
    "                  p=p,\n",
    "                  learning_rate=0.01,\n",
    "                  epochs=epochs,\n",
    "                  train_every=train_every,\n",
    "                  use_cuda=use_cuda\n",
    "                 )\n",
    "\n",
    "lin_model = LinUCB(bandit,\n",
    "                   reg_factor=reg_factor,\n",
    "                   delta=delta,\n",
    "                   confidence_scaling_factor=confidence_scaling_factor\n",
    "                  )"
   ]
  },
  {
   "cell_type": "code",
   "execution_count": 16,
   "metadata": {},
   "outputs": [
    {
     "data": {
      "text/plain": [
       "Model(\n",
       "  (layers): ModuleList(\n",
       "    (0): Linear(in_features=20, out_features=64, bias=False)\n",
       "    (1): Linear(in_features=64, out_features=1, bias=False)\n",
       "  )\n",
       "  (dropout): Dropout(p=0.2, inplace=False)\n",
       "  (activation): ReLU()\n",
       ")"
      ]
     },
     "execution_count": 16,
     "metadata": {},
     "output_type": "execute_result"
    }
   ],
   "source": [
    "model.model.train()"
   ]
  },
  {
   "cell_type": "code",
   "execution_count": 31,
   "metadata": {},
   "outputs": [
    {
     "ename": "TypeError",
     "evalue": "unsupported operand type(s) for *: 'generator' and 'generator'",
     "output_type": "error",
     "traceback": [
      "\u001b[0;31m---------------------------------------------------------------------------\u001b[0m",
      "\u001b[0;31mTypeError\u001b[0m                                 Traceback (most recent call last)",
      "\u001b[0;32m<ipython-input-31-4b41c1cd7975>\u001b[0m in \u001b[0;36m<module>\u001b[0;34m\u001b[0m\n\u001b[0;32m----> 1\u001b[0;31m \u001b[0mnp\u001b[0m\u001b[0;34m.\u001b[0m\u001b[0mlinalg\u001b[0m\u001b[0;34m.\u001b[0m\u001b[0mnorm\u001b[0m\u001b[0;34m(\u001b[0m\u001b[0mmodel\u001b[0m\u001b[0;34m.\u001b[0m\u001b[0mmodel\u001b[0m\u001b[0;34m.\u001b[0m\u001b[0mparameters\u001b[0m\u001b[0;34m(\u001b[0m\u001b[0;34m)\u001b[0m\u001b[0;34m)\u001b[0m\u001b[0;34m\u001b[0m\u001b[0;34m\u001b[0m\u001b[0m\n\u001b[0m",
      "\u001b[0;32m<__array_function__ internals>\u001b[0m in \u001b[0;36mnorm\u001b[0;34m(*args, **kwargs)\u001b[0m\n",
      "\u001b[0;32m~/anaconda3/lib/python3.8/site-packages/numpy/linalg/linalg.py\u001b[0m in \u001b[0;36mnorm\u001b[0;34m(x, ord, axis, keepdims)\u001b[0m\n\u001b[1;32m   2474\u001b[0m                 \u001b[0msqnorm\u001b[0m \u001b[0;34m=\u001b[0m \u001b[0mdot\u001b[0m\u001b[0;34m(\u001b[0m\u001b[0mx\u001b[0m\u001b[0;34m.\u001b[0m\u001b[0mreal\u001b[0m\u001b[0;34m,\u001b[0m \u001b[0mx\u001b[0m\u001b[0;34m.\u001b[0m\u001b[0mreal\u001b[0m\u001b[0;34m)\u001b[0m \u001b[0;34m+\u001b[0m \u001b[0mdot\u001b[0m\u001b[0;34m(\u001b[0m\u001b[0mx\u001b[0m\u001b[0;34m.\u001b[0m\u001b[0mimag\u001b[0m\u001b[0;34m,\u001b[0m \u001b[0mx\u001b[0m\u001b[0;34m.\u001b[0m\u001b[0mimag\u001b[0m\u001b[0;34m)\u001b[0m\u001b[0;34m\u001b[0m\u001b[0;34m\u001b[0m\u001b[0m\n\u001b[1;32m   2475\u001b[0m             \u001b[0;32melse\u001b[0m\u001b[0;34m:\u001b[0m\u001b[0;34m\u001b[0m\u001b[0;34m\u001b[0m\u001b[0m\n\u001b[0;32m-> 2476\u001b[0;31m                 \u001b[0msqnorm\u001b[0m \u001b[0;34m=\u001b[0m \u001b[0mdot\u001b[0m\u001b[0;34m(\u001b[0m\u001b[0mx\u001b[0m\u001b[0;34m,\u001b[0m \u001b[0mx\u001b[0m\u001b[0;34m)\u001b[0m\u001b[0;34m\u001b[0m\u001b[0;34m\u001b[0m\u001b[0m\n\u001b[0m\u001b[1;32m   2477\u001b[0m             \u001b[0mret\u001b[0m \u001b[0;34m=\u001b[0m \u001b[0msqrt\u001b[0m\u001b[0;34m(\u001b[0m\u001b[0msqnorm\u001b[0m\u001b[0;34m)\u001b[0m\u001b[0;34m\u001b[0m\u001b[0;34m\u001b[0m\u001b[0m\n\u001b[1;32m   2478\u001b[0m             \u001b[0;32mif\u001b[0m \u001b[0mkeepdims\u001b[0m\u001b[0;34m:\u001b[0m\u001b[0;34m\u001b[0m\u001b[0;34m\u001b[0m\u001b[0m\n",
      "\u001b[0;32m<__array_function__ internals>\u001b[0m in \u001b[0;36mdot\u001b[0;34m(*args, **kwargs)\u001b[0m\n",
      "\u001b[0;31mTypeError\u001b[0m: unsupported operand type(s) for *: 'generator' and 'generator'"
     ]
    }
   ],
   "source": [
    "np.linalg.norm(model.model.parameters())"
   ]
  },
  {
   "cell_type": "code",
   "execution_count": 34,
   "metadata": {},
   "outputs": [
    {
     "name": "stdout",
     "output_type": "stream",
     "text": [
      "Parameter containing:\n",
      "tensor([[ 0.1187, -0.2041, -0.1038,  ...,  0.0276, -0.2209,  0.0811],\n",
      "        [-0.0478,  0.0785, -0.1688,  ...,  0.1994, -0.1117, -0.0650],\n",
      "        [-0.1073, -0.1539,  0.0326,  ...,  0.0823,  0.0844, -0.0537],\n",
      "        ...,\n",
      "        [-0.0601,  0.1947,  0.1422,  ..., -0.1602,  0.1917,  0.1059],\n",
      "        [ 0.1988, -0.1841,  0.0503,  ..., -0.2167,  0.0351,  0.0505],\n",
      "        [-0.1930, -0.0043,  0.1535,  ...,  0.2155,  0.1111, -0.0470]],\n",
      "       requires_grad=True)\n",
      "Parameter containing:\n",
      "tensor([[ 3.5746e-02,  9.8193e-02,  5.5403e-02,  1.0171e-02, -9.9582e-02,\n",
      "         -1.0038e-01,  6.7220e-02, -5.7824e-02,  1.1358e-01,  3.7004e-02,\n",
      "         -6.1382e-03,  4.6774e-02, -1.1344e-01, -9.7521e-04, -7.3961e-02,\n",
      "          1.2235e-02,  1.0413e-01, -4.3080e-02,  9.7453e-02,  4.8902e-02,\n",
      "          1.1782e-02,  4.1079e-02,  1.1483e-01, -2.7919e-02, -8.7219e-02,\n",
      "         -2.3950e-02,  5.8947e-03,  9.9331e-02, -5.6929e-03,  1.0813e-01,\n",
      "         -9.2421e-02, -7.5851e-02,  2.3154e-02, -9.5619e-02, -7.5325e-05,\n",
      "          5.4954e-02, -8.5349e-02, -7.8729e-02, -1.9314e-02,  9.1491e-02,\n",
      "          9.8614e-02, -5.1636e-03, -8.7399e-02, -1.1133e-01, -9.4130e-02,\n",
      "         -7.6134e-02, -1.2034e-01, -8.1573e-02, -7.3758e-02, -9.4336e-03,\n",
      "         -1.1943e-01,  4.5340e-02, -2.8334e-02,  8.7886e-02, -8.3899e-02,\n",
      "         -2.8589e-02,  1.2069e-01,  8.0166e-02, -1.1510e-01,  1.1011e-01,\n",
      "          1.2356e-01, -4.9879e-02,  7.8895e-02, -4.8691e-02]],\n",
      "       requires_grad=True)\n"
     ]
    }
   ],
   "source": [
    "for p in model.model.parameters():\n",
    "    print(p)"
   ]
  },
  {
   "cell_type": "code",
   "execution_count": null,
   "metadata": {},
   "outputs": [],
   "source": []
  },
  {
   "cell_type": "code",
   "execution_count": 8,
   "metadata": {},
   "outputs": [
    {
     "data": {
      "text/plain": [
       "1.302046392073708"
      ]
     },
     "execution_count": 8,
     "metadata": {},
     "output_type": "execute_result"
    }
   ],
   "source": [
    "np.random.randn()"
   ]
  },
  {
   "cell_type": "code",
   "execution_count": 7,
   "metadata": {
    "scrolled": true
   },
   "outputs": [
    {
     "data": {
      "text/plain": [
       "1344"
      ]
     },
     "execution_count": 7,
     "metadata": {},
     "output_type": "execute_result"
    }
   ],
   "source": [
    "model.approximator_dim"
   ]
  },
  {
   "cell_type": "code",
   "execution_count": 15,
   "metadata": {},
   "outputs": [],
   "source": [
    "input_size = 20\n",
    "hidden_size = 64\n",
    "n_layers = 2\n",
    "\n",
    "size  = [input_size] + [hidden_size,] * (n_layers-1) + [1]\n",
    "layers = [nn.Linear(size[i], size[i+1], bias = False) for i in range(n_layers)]"
   ]
  },
  {
   "cell_type": "code",
   "execution_count": 16,
   "metadata": {},
   "outputs": [
    {
     "data": {
      "text/plain": [
       "[Linear(in_features=20, out_features=64, bias=False),\n",
       " Linear(in_features=64, out_features=1, bias=False)]"
      ]
     },
     "execution_count": 16,
     "metadata": {},
     "output_type": "execute_result"
    }
   ],
   "source": [
    "layers"
   ]
  },
  {
   "cell_type": "code",
   "execution_count": 17,
   "metadata": {
    "scrolled": true
   },
   "outputs": [
    {
     "data": {
      "text/plain": [
       "1409"
      ]
     },
     "execution_count": 17,
     "metadata": {},
     "output_type": "execute_result"
    }
   ],
   "source": []
  },
  {
   "cell_type": "code",
   "execution_count": 11,
   "metadata": {},
   "outputs": [
    {
     "data": {
      "text/plain": [
       "20"
      ]
     },
     "execution_count": 11,
     "metadata": {},
     "output_type": "execute_result"
    }
   ],
   "source": [
    "lin_model.approximator_dim"
   ]
  },
  {
   "cell_type": "code",
   "execution_count": null,
   "metadata": {},
   "outputs": [],
   "source": []
  },
  {
   "cell_type": "code",
   "execution_count": null,
   "metadata": {},
   "outputs": [],
   "source": []
  },
  {
   "cell_type": "code",
   "execution_count": 11,
   "metadata": {},
   "outputs": [
    {
     "data": {
      "text/plain": [
       "array([ 9, 17, 10,  7, 15])"
      ]
     },
     "execution_count": 11,
     "metadata": {},
     "output_type": "execute_result"
    }
   ],
   "source": [
    "np.max(bb, axis=-1)"
   ]
  },
  {
   "cell_type": "code",
   "execution_count": 5,
   "metadata": {
    "scrolled": true
   },
   "outputs": [
    {
     "data": {
      "text/plain": [
       "array([[ 9],\n",
       "       [17],\n",
       "       [10],\n",
       "       [ 7],\n",
       "       [15]])"
      ]
     },
     "execution_count": 5,
     "metadata": {},
     "output_type": "execute_result"
    }
   ],
   "source": [
    "aa = np.array([[9,17,10,7,15]])\n",
    "np.shape(aa)\n",
    "bb = np.reshape(aa, (5,1))\n",
    "np.shape(bb)\n",
    "bbb"
   ]
  },
  {
   "cell_type": "code",
   "execution_count": null,
   "metadata": {},
   "outputs": [],
   "source": []
  },
  {
   "cell_type": "code",
   "execution_count": null,
   "metadata": {},
   "outputs": [],
   "source": []
  },
  {
   "cell_type": "code",
   "execution_count": 2,
   "metadata": {},
   "outputs": [
    {
     "data": {
      "text/plain": [
       "array([20, 21])"
      ]
     },
     "execution_count": 2,
     "metadata": {},
     "output_type": "execute_result"
    }
   ],
   "source": [
    "## --\n",
    "aa = np.array([[9,17,10,7,15], [20,22,21,27,26], [1,2,3,4,5]])\n",
    "\n",
    "aa[1, np.array([0,2])]"
   ]
  },
  {
   "cell_type": "code",
   "execution_count": null,
   "metadata": {},
   "outputs": [],
   "source": [
    "## --\n",
    "a = np.array([9,17,10,7,15])\n",
    "ind = np.argpartition(a, -3)[-3:]\n",
    "s_ind = ind[np.argsort(a[ind])][::-1]\n",
    "b = a[s_ind]\n",
    "\n",
    "print(s_ind)\n",
    "print(b)"
   ]
  },
  {
   "cell_type": "code",
   "execution_count": null,
   "metadata": {},
   "outputs": [],
   "source": [
    "## --\n",
    "def inv_sherman_morrison_iter(a, A_inv):\n",
    "    temp = A_inv\n",
    "    for u in a:\n",
    "        print(np.shape(u))\n",
    "        print(np.shape(temp))\n",
    "        Au = np.dot(temp, u)\n",
    "        temp = temp - np.outer(Au, Au)/(1+np.dot(u.T, Au))\n",
    "    return temp"
   ]
  },
  {
   "cell_type": "code",
   "execution_count": null,
   "metadata": {},
   "outputs": [],
   "source": [
    "c = np.array( [np.array([1,0]) , np.array([0,1]), np.array([1,0]) , np.array([0,1])] )\n",
    "A_inv = np.array( [[np.array([1,0]) , np.array([0,1])]] )\n",
    "A_inv = np.squeeze(A_inv, axis=0)\n",
    "\n",
    "inv_sherman_morrison_iter(c, A_inv)\n"
   ]
  },
  {
   "cell_type": "code",
   "execution_count": null,
   "metadata": {},
   "outputs": [],
   "source": [
    "## --\n",
    "a = np.array([[9,17,10,7,15], [20,22,21,27,26]])\n",
    "ind = np.argpartition(a, -3, axis=1)[:,-3:]\n",
    "s_ind = np.array([list(ind[i][np.argsort(a[i][ind[i]])][::-1]) for i in range(0, np.shape(a)[0])])\n",
    "b = np.array([a[i][s_ind[i]] for i in range(0,np.shape(a)[0])])"
   ]
  },
  {
   "cell_type": "code",
   "execution_count": null,
   "metadata": {},
   "outputs": [],
   "source": [
    "## --\n",
    "print(s_ind)\n",
    "print(b)"
   ]
  },
  {
   "cell_type": "code",
   "execution_count": null,
   "metadata": {},
   "outputs": [],
   "source": [
    "## --\n",
    "bandit = ContextualBandit(T, n_arms, n_features, h, noise_std=noise_std, n_assortment=n_assortment, round_reward_function=F)"
   ]
  },
  {
   "cell_type": "code",
   "execution_count": null,
   "metadata": {},
   "outputs": [],
   "source": [
    "## --\n",
    "print('super arm:', bandit.best_super_arm)\n",
    "print('scores:', bandit.best_rewards)\n",
    "print('round reward:', bandit.best_round_reward)"
   ]
  },
  {
   "cell_type": "code",
   "execution_count": null,
   "metadata": {},
   "outputs": [],
   "source": []
  },
  {
   "cell_type": "code",
   "execution_count": 3,
   "metadata": {},
   "outputs": [
    {
     "data": {
      "text/plain": [
       "5.0"
      ]
     },
     "execution_count": 3,
     "metadata": {},
     "output_type": "execute_result"
    }
   ],
   "source": [
    "import numpy as np \n",
    "\n",
    "aa = np.array([[9,17,10,7,15]])\n",
    "bb = np.array([[12,17,14,7,15]])\n",
    "\n",
    "np.linalg.norm(aa-bb)"
   ]
  }
 ],
 "metadata": {
  "kernelspec": {
   "display_name": "Python 3",
   "language": "python",
   "name": "python3"
  },
  "language_info": {
   "codemirror_mode": {
    "name": "ipython",
    "version": 3
   },
   "file_extension": ".py",
   "mimetype": "text/x-python",
   "name": "python",
   "nbconvert_exporter": "python",
   "pygments_lexer": "ipython3",
   "version": "3.8.3"
  }
 },
 "nbformat": 4,
 "nbformat_minor": 4
}
