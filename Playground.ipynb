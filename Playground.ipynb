{
 "cells": [
  {
   "cell_type": "code",
   "execution_count": 1,
   "metadata": {},
   "outputs": [],
   "source": [
    "import numpy as np\n",
    "import matplotlib.pyplot as plt\n",
    "import seaborn as sns\n",
    "from neural_exploration import *\n",
    "sns.set()"
   ]
  },
  {
   "cell_type": "code",
   "execution_count": 13,
   "metadata": {},
   "outputs": [
    {
     "data": {
      "text/plain": [
       "array([10, 19, 13, 11, 20])"
      ]
     },
     "execution_count": 13,
     "metadata": {},
     "output_type": "execute_result"
    }
   ],
   "source": [
    "aa = np.array([[9,17,10,7,15], [1,2,3,4,5]])\n",
    "\n",
    "np.sum(aa, axis=0)"
   ]
  },
  {
   "cell_type": "code",
   "execution_count": null,
   "metadata": {},
   "outputs": [],
   "source": []
  },
  {
   "cell_type": "code",
   "execution_count": null,
   "metadata": {},
   "outputs": [],
   "source": []
  },
  {
   "cell_type": "code",
   "execution_count": 2,
   "metadata": {},
   "outputs": [
    {
     "data": {
      "text/plain": [
       "array([20, 21])"
      ]
     },
     "execution_count": 2,
     "metadata": {},
     "output_type": "execute_result"
    }
   ],
   "source": [
    "## --\n",
    "aa = np.array([[9,17,10,7,15], [20,22,21,27,26], [1,2,3,4,5]])\n",
    "\n",
    "aa[1, np.array([0,2])]"
   ]
  },
  {
   "cell_type": "code",
   "execution_count": null,
   "metadata": {},
   "outputs": [],
   "source": [
    "## --\n",
    "a = np.array([9,17,10,7,15])\n",
    "ind = np.argpartition(a, -3)[-3:]\n",
    "s_ind = ind[np.argsort(a[ind])][::-1]\n",
    "b = a[s_ind]\n",
    "\n",
    "print(s_ind)\n",
    "print(b)"
   ]
  },
  {
   "cell_type": "code",
   "execution_count": null,
   "metadata": {},
   "outputs": [],
   "source": [
    "## --\n",
    "def inv_sherman_morrison_iter(a, A_inv):\n",
    "    temp = A_inv\n",
    "    for u in a:\n",
    "        print(np.shape(u))\n",
    "        print(np.shape(temp))\n",
    "        Au = np.dot(temp, u)\n",
    "        temp = temp - np.outer(Au, Au)/(1+np.dot(u.T, Au))\n",
    "    return temp"
   ]
  },
  {
   "cell_type": "code",
   "execution_count": null,
   "metadata": {},
   "outputs": [],
   "source": [
    "c = np.array( [np.array([1,0]) , np.array([0,1]), np.array([1,0]) , np.array([0,1])] )\n",
    "A_inv = np.array( [[np.array([1,0]) , np.array([0,1])]] )\n",
    "A_inv = np.squeeze(A_inv, axis=0)\n",
    "\n",
    "inv_sherman_morrison_iter(c, A_inv)\n"
   ]
  },
  {
   "cell_type": "code",
   "execution_count": null,
   "metadata": {},
   "outputs": [],
   "source": [
    "## --\n",
    "a = np.array([[9,17,10,7,15], [20,22,21,27,26]])\n",
    "ind = np.argpartition(a, -3, axis=1)[:,-3:]\n",
    "s_ind = np.array([list(ind[i][np.argsort(a[i][ind[i]])][::-1]) for i in range(0, np.shape(a)[0])])\n",
    "b = np.array([a[i][s_ind[i]] for i in range(0,np.shape(a)[0])])"
   ]
  },
  {
   "cell_type": "code",
   "execution_count": null,
   "metadata": {},
   "outputs": [],
   "source": [
    "## --\n",
    "print(s_ind)\n",
    "print(b)"
   ]
  },
  {
   "cell_type": "code",
   "execution_count": null,
   "metadata": {},
   "outputs": [],
   "source": [
    "## --\n",
    "bandit = ContextualBandit(T, n_arms, n_features, h, noise_std=noise_std, n_assortment=n_assortment, round_reward_function=F)"
   ]
  },
  {
   "cell_type": "code",
   "execution_count": null,
   "metadata": {},
   "outputs": [],
   "source": [
    "## --\n",
    "print('super arm:', bandit.best_super_arm)\n",
    "print('scores:', bandit.best_rewards)\n",
    "print('round reward:', bandit.best_round_reward)"
   ]
  },
  {
   "cell_type": "code",
   "execution_count": null,
   "metadata": {},
   "outputs": [],
   "source": []
  }
 ],
 "metadata": {
  "kernelspec": {
   "display_name": "Python 3",
   "language": "python",
   "name": "python3"
  },
  "language_info": {
   "codemirror_mode": {
    "name": "ipython",
    "version": 3
   },
   "file_extension": ".py",
   "mimetype": "text/x-python",
   "name": "python",
   "nbconvert_exporter": "python",
   "pygments_lexer": "ipython3",
   "version": "3.8.3"
  }
 },
 "nbformat": 4,
 "nbformat_minor": 4
}
